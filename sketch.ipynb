{
 "cells": [
  {
   "cell_type": "code",
   "execution_count": null,
   "metadata": {},
   "outputs": [],
   "source": [
    "function correlation_matrix(Lx, n_occupied)\n",
    "    \n",
    "    # create Hamiltonian matrix for hopping fermions\n",
    "    t = 1.\n",
    "    mu = 0.\n",
    "    Hmatrix = SymTridiagonal(mu .* ones(Lx), t .* ones(Lx-1))\n",
    "\n",
    "    # Make the correlation matrix (\\Lambda) from its diagonal form (\\Gamma)\n",
    "    # \\Gamma has n_occupied 1s--corresponding to the lowest eigenvalues--and the rest of the diagonal 0s\n",
    "    # we have $\\Lambda = U^{*} \\Gamma U^{T}$\n",
    "    vecs = eigfact(Hmatrix, 1:n_occupied)[:vectors]\n",
    "    return conj(vecs) * transpose(vecs)\n",
    "    \n",
    "end"
   ]
  },
  {
   "cell_type": "code",
   "execution_count": null,
   "metadata": {},
   "outputs": [],
   "source": [
    "corr_matrix = correlation_matrix(20, 10)\n",
    "\n",
    "# make this into a complete rotation of correlations matrix and see how well it performs.\n",
    "# make the size dynamic for better efficiency here (how does this translate to GDMRG?!)\n",
    "bsize = 6\n",
    "corr_block = corr_matrix[1:bsize, 1:bsize]\n",
    "\n",
    "vals = eigvals(corr_block)\n",
    "\n",
    "v_index = indmax(abs.(vals - 0.5))\n",
    "v = eigvecs(corr_block)[:,v_index]\n",
    "\n",
    "fullgate = eye(bsize, bsize)\n",
    "for pivot=bsize-1:-1:1\n",
    "    theta = atan(v[pivot + 1]/ v[pivot])\n",
    "    Ugate = eye(bsize, bsize)\n",
    "    Ugate[pivot:pivot+1, pivot:pivot+1] = [cos(theta) -sin(theta); sin(theta) cos(theta)]\n",
    "    fullgate = fullgate * Ugate\n",
    "    v = transpose(v.' * Ugate)\n",
    "end\n",
    "fullgate' * corr_block * fullgate\n",
    "# how to organize and store the gates?\n",
    "# how to apply the gates the most efficient way?\n",
    "# how to implement Gutzwiller projection in this approach?"
   ]
  },
  {
   "cell_type": "code",
   "execution_count": null,
   "metadata": {
    "collapsed": true
   },
   "outputs": [],
   "source": []
  }
 ],
 "metadata": {
  "kernelspec": {
   "display_name": "Julia 0.6.0",
   "language": "julia",
   "name": "julia-0.6"
  },
  "language_info": {
   "file_extension": ".jl",
   "mimetype": "application/julia",
   "name": "julia",
   "version": "0.6.0"
  }
 },
 "nbformat": 4,
 "nbformat_minor": 2
}
