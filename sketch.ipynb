{
 "cells": [
  {
   "cell_type": "code",
   "execution_count": null,
   "metadata": {},
   "outputs": [],
   "source": [
    "function correlation_matrix(Lx, n_occupied)\n",
    "    \n",
    "    # create Hamiltonian matrix for hopping fermions\n",
    "    t = 1.\n",
    "    mu = 0.\n",
    "    Hmatrix = SymTridiagonal(mu .* ones(Lx), t .* ones(Lx-1))\n",
    "\n",
    "    # Make the correlation matrix (\\Lambda) from its diagonal form (\\Gamma)\n",
    "    # \\Gamma has n_occupied 1s--corresponding to the lowest eigenvalues--and the rest of the diagonal 0s\n",
    "    # we have $\\Lambda = U^{*} \\Gamma U^{T}$\n",
    "    vecs = eigfact(Hmatrix, 1:n_occupied)[:vectors]\n",
    "    return conj(vecs) * transpose(vecs)\n",
    "    \n",
    "end"
   ]
  },
  {
   "cell_type": "code",
   "execution_count": 75,
   "metadata": {},
   "outputs": [
    {
     "data": {
      "text/plain": [
       "20×20 Array{Float64,2}:\n",
       "  1.0          -1.5168e-16    7.58942e-17  …  -1.49186e-16   0.047888   \n",
       " -1.2837e-16   -0.034642      3.54805e-17     -0.00110697   -1.78677e-16\n",
       " -1.64799e-17   4.51028e-17   1.0989           4.68375e-17  -0.048995   \n",
       " -1.48319e-16  -2.1684e-17   -7.33788e-16      0.00234812    1.17961e-16\n",
       " -6.07153e-17  -7.97973e-17   1.52656e-16     -1.52656e-16   0.0513431  \n",
       " -1.38778e-17   4.67291e-17  -9.02056e-17  …  -0.00390027   -2.42861e-16\n",
       " -5.55112e-17  -2.77556e-17  -5.55112e-17      1.07553e-16  -0.0552433  \n",
       "  0.0858066     2.60209e-17  -1.94289e-16      0.00605342    9.71445e-17\n",
       "  1.80411e-16   0.015139     -4.16334e-17     -6.07153e-17   0.0612968  \n",
       " -0.0706675     1.52656e-16   0.0764358       -0.00937075    1.52656e-16\n",
       " -2.63678e-16  -0.00937075    1.66533e-16  …   6.59195e-17  -0.0706675  \n",
       "  0.0612968    -1.94289e-16  -0.0646141        0.015139     -1.38778e-17\n",
       "  6.93889e-18   0.00605342   -7.63278e-17     -2.28983e-16   0.0858066  \n",
       " -0.0552433     3.64292e-17   0.0573965       -1.66533e-16  -2.77556e-17\n",
       " -2.08167e-16  -0.00390027    2.28983e-16     -2.84061e-17  -2.42861e-16\n",
       "  0.0513431    -4.68375e-17  -0.0528952    …   1.11022e-16  -5.55112e-17\n",
       "  1.00614e-16   0.00234812   -1.31839e-16      1.04083e-17   1.04083e-16\n",
       " -0.048995      5.89806e-17   0.0502361       -2.63678e-16   1.11022e-16\n",
       " -1.49186e-16  -0.00110697    4.68375e-17      0.272173      2.77556e-17\n",
       "  0.047888     -1.78677e-16  -0.048995         5.55112e-17   0.56134    "
      ]
     },
     "execution_count": 75,
     "metadata": {},
     "output_type": "execute_result"
    }
   ],
   "source": [
    "Lx = 20\n",
    "n_occupied = 10\n",
    "corr_matrix = correlation_matrix(Lx, n_occupied)\n",
    "\n",
    "## TODO: make the size dynamic for better efficiency here (how does this translate to GDMRG?!)\n",
    "## TODO: better slicing method (probably arrayviews or sub)\n",
    "for site=1:Lx\n",
    "    # find the best block size\n",
    "    if site < Lx-5\n",
    "        bsize = 6\n",
    "    else\n",
    "        bsize = Lx - site + 1\n",
    "    end\n",
    "    brange = site:bsize+site-1\n",
    "    corr_block = corr_matrix[brange, brange]\n",
    "\n",
    "    # find the closest eigenvalue to occupied/unoccupied and the corresponding eigenvector\n",
    "    vals = eigvals(corr_block)\n",
    "    v_index = indmax(abs.(vals - 0.5))\n",
    "    v = eigvecs(corr_block)[:,v_index]\n",
    "\n",
    "    # find the set of bsize-1 unitary gate that diagonalize the correlation block\n",
    "    ## TODO: how to organize and store the gates?\n",
    "    fullgate = eye(bsize, bsize)\n",
    "    for pivot=bsize-1:-1:1\n",
    "        theta = atan(v[pivot + 1]/ v[pivot])\n",
    "        Ugate = eye(bsize, bsize)\n",
    "        Ugate[pivot:pivot+1, pivot:pivot+1] = [cos(theta) -sin(theta); sin(theta) cos(theta)]\n",
    "        fullgate = fullgate * Ugate\n",
    "        v = transpose(v.' * Ugate)\n",
    "    end\n",
    "    \n",
    "    # rotate the corresponding correlation block\n",
    "    corr_matrix[brange, brange] = fullgate' * corr_block * fullgate\n",
    "end\n",
    "corr_matrix\n",
    "## how to apply the gates the most efficient way?\n",
    "## how to implement Gutzwiller projection in this approach?"
   ]
  },
  {
   "cell_type": "code",
   "execution_count": null,
   "metadata": {
    "collapsed": true
   },
   "outputs": [],
   "source": [
    "# generate MPS from the GMPS\n",
    "\n",
    "# start with a product state of correct occupation number\n",
    "# apply the nearest neighbor gates (opposite order) and form new MPS svd"
   ]
  }
 ],
 "metadata": {
  "kernelspec": {
   "display_name": "Julia 0.6.0",
   "language": "julia",
   "name": "julia-0.6"
  },
  "language_info": {
   "file_extension": ".jl",
   "mimetype": "application/julia",
   "name": "julia",
   "version": "0.6.0"
  }
 },
 "nbformat": 4,
 "nbformat_minor": 2
}
