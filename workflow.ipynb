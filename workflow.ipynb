{
 "cells": [
  {
   "cell_type": "code",
   "execution_count": null,
   "metadata": {},
   "outputs": [],
   "source": [
    "push!(LOAD_PATH, \"/home/amir/Work/gdmrg/src/\")\n",
    "import Tmp\n",
    "#using Plots\n",
    "#using LaTeXStrings"
   ]
  },
  {
   "cell_type": "code",
   "execution_count": null,
   "metadata": {
    "collapsed": true
   },
   "outputs": [],
   "source": [
    "sz_half = Tmp.sz_half;\n",
    "sp_half = Tmp.sp_half;\n",
    "sm_half = Tmp.sm_half;"
   ]
  },
  {
   "cell_type": "code",
   "execution_count": null,
   "metadata": {
    "collapsed": true
   },
   "outputs": [],
   "source": [
    "### loading example files for illustration ###\n",
    "#include(\"example-01-compareHeisVsRandom.jl\")"
   ]
  },
  {
   "cell_type": "code",
   "execution_count": null,
   "metadata": {},
   "outputs": [],
   "source": [
    "reload(\"Tmp\")\n",
    "include(\"test/runtests.jl\")"
   ]
  },
  {
   "cell_type": "code",
   "execution_count": null,
   "metadata": {},
   "outputs": [],
   "source": [
    "A = rand(4, 4)\n",
    "matvecA!(v, v0) = A_mul_B!(v, A, v0)\n",
    "@show Tmp.eigsfn(matvecA!, rand(4), false)\n",
    "@show eigs(A)"
   ]
  },
  {
   "cell_type": "code",
   "execution_count": null,
   "metadata": {
    "collapsed": true
   },
   "outputs": [],
   "source": [
    "@time Tmp.rungutz(16, 400, compare=true)\n",
    "Lx = 4\n",
    "@time e,v = Tmp.groundstate_xxz_szblock(Lx)\n",
    "@show e/Lx  "
   ]
  },
  {
   "cell_type": "code",
   "execution_count": null,
   "metadata": {
    "collapsed": true
   },
   "outputs": [],
   "source": [
    "dimM = binom(Lx, div(Lx, 2))\n",
    "\n",
    "# szblock_states = Vector{Int64}(block_size)\n",
    "#     index = 0\n",
    "#     for state=0:2^Lx-1\n",
    "#         if count_ones(state) == M\n",
    "#             index += 1\n",
    "#             szblock_states[index] = state\n",
    "#         end\n",
    "#     end\n",
    "# v_dense = zeros(Float64, 16)\n",
    "\n",
    "v_dense[[4, 6, 7, 10, 11, 13]] = v\n",
    "\n",
    "\n",
    "tmp = transpose(reshape(transpose(v_dense), 8, 2))\n",
    "display(tmp)\n",
    "fact = svdfact(tmp)\n",
    "display(fact[:U])\n",
    "display(fact[:S])\n",
    "display(fact[:Vt])\n",
    "tmp = transpose(reshape(transpose(diagm(fact[:S])*fact[:Vt]), 4,4))\n",
    "fact = svdfact(tmp)\n",
    "display(fact[:U])\n",
    "display(fact[:S])\n",
    "display(fact[:Vt])"
   ]
  },
  {
   "cell_type": "code",
   "execution_count": null,
   "metadata": {
    "collapsed": true
   },
   "outputs": [],
   "source": [
    "Lx = 4\n",
    "dim_szblock = binomial(Lx, div(Lx, 2))\n",
    "@time e, v = Tmp.groundstate_xxz_szblock(Lx)\n",
    "\n",
    "v = normalize(rand(dim_szblock))\n",
    "display(v)\n",
    "\n",
    "dim = div(dim_szblock, 2)\n",
    "#transpose(reshape(transpose(v), dim, 2))\n",
    "@show svd(transpose(v[1:dim,:]))\n",
    "@show svd(transpose(v[dim:end,:]))"
   ]
  },
  {
   "cell_type": "code",
   "execution_count": null,
   "metadata": {
    "collapsed": true
   },
   "outputs": [],
   "source": [
    "Lx = 8\n",
    "index = 0\n",
    "for state=0:2^Lx-1\n",
    "    if count_ones(state) == div(Lx, 2)\n",
    "        index += 1\n",
    "        println(rpad(index, 3, \" \"), lpad(state, 4, \" \"), \" : \", bin(state, Lx))\n",
    "    end\n",
    "end"
   ]
  },
  {
   "cell_type": "code",
   "execution_count": null,
   "metadata": {
    "collapsed": true
   },
   "outputs": [],
   "source": [
    "Lx = 4\n",
    "M = div(Lx, 2)\n",
    "\n",
    "@time e, v = Tmp.groundstate_xxz_szblock(Lx, sz_total=div(Lx,2)-M)\n",
    "\n",
    "#v = normalize(rand(dim_szblock))\n",
    "#display(v)\n",
    "totaldim = binomial(Lx, M)\n",
    "@assert length(v) == totaldim\n",
    "\n",
    "udim = binomial(Lx-1, M-1)\n",
    "ddim = binomial(Lx-1, M)\n",
    "uv = v[1:updim]\n",
    "dv = v[updim+1:totaldim]\n",
    "\n",
    "#transpose(reshape(transpose(v), dim, 2))\n",
    "ufact = svdfact(transpose(uv[:,:]))\n",
    "dfact = svdfact(transpose(dv[:,:]))\n",
    "\n",
    "uv = diagm(ufact[:S]) * ufact[:Vt]\n",
    "dv = diagm(dfact[:S]) * dfact[:Vt]\n",
    "\n",
    "@show hcat(uv,dv)\n",
    "display(uv)\n",
    "display(dv)\n",
    "\n",
    "n = 2\n",
    "dims = [binomial(Lx-n, i) for i=0:n-1]"
   ]
  },
  {
   "cell_type": "code",
   "execution_count": null,
   "metadata": {
    "collapsed": true
   },
   "outputs": [],
   "source": []
  }
 ],
 "metadata": {
  "kernelspec": {
   "display_name": "Julia 0.6.2",
   "language": "julia",
   "name": "julia-0.6"
  },
  "language_info": {
   "file_extension": ".jl",
   "mimetype": "application/julia",
   "name": "julia",
   "version": "0.6.2"
  }
 },
 "nbformat": 4,
 "nbformat_minor": 2
}
