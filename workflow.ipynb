{
 "cells": [
  {
   "cell_type": "code",
   "execution_count": 3,
   "metadata": {},
   "outputs": [
    {
     "ename": "LoadError",
     "evalue": "LoadError: LoadError: \u001b[91msyntax: \"<\" is not a unary operator\u001b[39m\nwhile loading /home/amir/Work/gdmrg/MPS.jl, in expression starting on line 277\nwhile loading /home/amir/Work/gdmrg/Tmp.jl, in expression starting on line 8",
     "output_type": "error",
     "traceback": [
      "LoadError: LoadError: \u001b[91msyntax: \"<\" is not a unary operator\u001b[39m\nwhile loading /home/amir/Work/gdmrg/MPS.jl, in expression starting on line 277\nwhile loading /home/amir/Work/gdmrg/Tmp.jl, in expression starting on line 8",
      "",
      "Stacktrace:",
      " [1] \u001b[1minclude_from_node1\u001b[22m\u001b[22m\u001b[1m(\u001b[22m\u001b[22m::String\u001b[1m)\u001b[22m\u001b[22m at \u001b[1m./loading.jl:576\u001b[22m\u001b[22m (repeats 2 times)",
      " [2] \u001b[1m_require\u001b[22m\u001b[22m\u001b[1m(\u001b[22m\u001b[22m::Symbol\u001b[1m)\u001b[22m\u001b[22m at \u001b[1m./loading.jl:490\u001b[22m\u001b[22m",
      " [3] \u001b[1mrequire\u001b[22m\u001b[22m\u001b[1m(\u001b[22m\u001b[22m::Symbol\u001b[1m)\u001b[22m\u001b[22m at \u001b[1m./loading.jl:405\u001b[22m\u001b[22m"
     ]
    }
   ],
   "source": [
    "push!(LOAD_PATH, \"/home/amir/Work/gdmrg\")\n",
    "import Tmp"
   ]
  },
  {
   "cell_type": "code",
   "execution_count": 58,
   "metadata": {},
   "outputs": [
    {
     "name": "stderr",
     "output_type": "stream",
     "text": [
      "WARNING: replacing module Tmp\n"
     ]
    },
    {
     "ename": "LoadError",
     "evalue": "LoadError: LoadError: \u001b[91msyntax: \"<\" is not a unary operator\u001b[39m\nwhile loading /home/amir/Work/gdmrg/MPO.jl, in expression starting on line 13\nwhile loading /home/amir/Work/gdmrg/Tmp.jl, in expression starting on line 8",
     "output_type": "error",
     "traceback": [
      "LoadError: LoadError: \u001b[91msyntax: \"<\" is not a unary operator\u001b[39m\nwhile loading /home/amir/Work/gdmrg/MPO.jl, in expression starting on line 13\nwhile loading /home/amir/Work/gdmrg/Tmp.jl, in expression starting on line 8",
      "",
      "Stacktrace:",
      " [1] \u001b[1minclude_from_node1\u001b[22m\u001b[22m\u001b[1m(\u001b[22m\u001b[22m::String\u001b[1m)\u001b[22m\u001b[22m at \u001b[1m./loading.jl:576\u001b[22m\u001b[22m (repeats 2 times)",
      " [2] \u001b[1m_require\u001b[22m\u001b[22m\u001b[1m(\u001b[22m\u001b[22m::Symbol\u001b[1m)\u001b[22m\u001b[22m at \u001b[1m./loading.jl:490\u001b[22m\u001b[22m",
      " [3] \u001b[1mrequire\u001b[22m\u001b[22m\u001b[1m(\u001b[22m\u001b[22m::Symbol\u001b[1m)\u001b[22m\u001b[22m at \u001b[1m./loading.jl:405\u001b[22m\u001b[22m",
      " [4] \u001b[1mreload\u001b[22m\u001b[22m\u001b[1m(\u001b[22m\u001b[22m::String\u001b[1m)\u001b[22m\u001b[22m at \u001b[1m./loading.jl:378\u001b[22m\u001b[22m"
     ]
    }
   ],
   "source": [
    "reload(\"Tmp\")\n",
    "include(\"test.jl\")"
   ]
  },
  {
   "cell_type": "code",
   "execution_count": null,
   "metadata": {
    "collapsed": true
   },
   "outputs": [],
   "source": [
    "Tmp.runstuff(8,100)"
   ]
  },
  {
   "cell_type": "code",
   "execution_count": 24,
   "metadata": {},
   "outputs": [
    {
     "ename": "LoadError",
     "evalue": "\u001b[91mUndefVarError: expectation_mpo not defined\u001b[39m",
     "output_type": "error",
     "traceback": [
      "\u001b[91mUndefVarError: expectation_mpo not defined\u001b[39m",
      ""
     ]
    }
   ],
   "source": [
    "singlet = Vector{Complex128}([0, 1, -1, 0])\n",
    "ketstate = kron(singlet, singlet)\n",
    "mps = Tmp.MPS(4, 2, ketstate)\n",
    "mpo = Tmp.MPO(4, 2)\n",
    "Tmp.measure(mps, mpo)"
   ]
  },
  {
   "cell_type": "code",
   "execution_count": 57,
   "metadata": {},
   "outputs": [
    {
     "name": "stdout",
     "output_type": "stream",
     "text": [
      "(e, v) = ([-1.61603], [0.0; 2.08167e-17; 1.11022e-16; -0.149429; -1.11022e-16; 0.557678; -0.408248; 1.11022e-16; -1.11022e-16; -0.408248; 0.557678; -5.55112e-17; -0.149429; 1.38778e-17; -1.11022e-16; 5.55112e-17])\n"
     ]
    },
    {
     "name": "stderr",
     "output_type": "stream",
     "text": [
      "\u001b[1m\u001b[33mWARNING: \u001b[39m\u001b[22m\u001b[33mUse symbols instead of strings for specifying which eigenvalues to compute\u001b[39m\n"
     ]
    },
    {
     "ename": "LoadError",
     "evalue": "\u001b[91mMethodError: no method matching Tmp.MPO{Float64}(::Int64, ::Int64)\u001b[39m",
     "output_type": "error",
     "traceback": [
      "\u001b[91mMethodError: no method matching Tmp.MPO{Float64}(::Int64, ::Int64)\u001b[39m",
      ""
     ]
    }
   ],
   "source": [
    "H = Tmp.heisenberg(4)\n",
    "e, v = eigs(H, nev=1, which=\"SR\")\n",
    "@show e, v\n",
    "mps = Tmp.MPS(4, 2, v[:,1])\n",
    "mpo = Tmp.MPO{Float64}(4, 2)\n",
    "Tmp.measure(mps, mpo)"
   ]
  },
  {
   "cell_type": "code",
   "execution_count": null,
   "metadata": {
    "collapsed": true
   },
   "outputs": [],
   "source": []
  }
 ],
 "metadata": {
  "kernelspec": {
   "display_name": "Julia 0.6.1",
   "language": "julia",
   "name": "julia-0.6"
  },
  "language_info": {
   "file_extension": ".jl",
   "mimetype": "application/julia",
   "name": "julia",
   "version": "0.6.1"
  }
 },
 "nbformat": 4,
 "nbformat_minor": 2
}
