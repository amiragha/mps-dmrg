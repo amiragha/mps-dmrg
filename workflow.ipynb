{
 "cells": [
  {
   "cell_type": "code",
   "execution_count": 1,
   "metadata": {
    "collapsed": true
   },
   "outputs": [],
   "source": [
    "push!(LOAD_PATH, \"/home/amir/Work/gdmrg/src/\")\n",
    "import Tmp\n",
    "using Plots\n",
    "using LaTeXStrings"
   ]
  },
  {
   "cell_type": "code",
   "execution_count": 2,
   "metadata": {
    "collapsed": true
   },
   "outputs": [],
   "source": [
    "sz_half = Tmp.sz_half;\n",
    "sp_half = Tmp.sp_half;\n",
    "sm_half = Tmp.sm_half;"
   ]
  },
  {
   "cell_type": "code",
   "execution_count": 3,
   "metadata": {
    "collapsed": true
   },
   "outputs": [],
   "source": [
    "### loading example files for illustration ###\n",
    "#include(\"example-01-compareHeisVsRandom.jl\")"
   ]
  },
  {
   "cell_type": "code",
   "execution_count": 4,
   "metadata": {},
   "outputs": [
    {
     "name": "stdout",
     "output_type": "stream",
     "text": [
      "\u001b[1m\u001b[37mTest Summary: | \u001b[39m\u001b[22m\u001b[1m\u001b[32mPass  \u001b[39m\u001b[22m"
     ]
    },
    {
     "name": "stderr",
     "output_type": "stream",
     "text": [
      "WARNING: replacing module Tmp\n"
     ]
    },
    {
     "name": "stdout",
     "output_type": "stream",
     "text": [
      "\u001b[1m\u001b[36mTotal\u001b[39m\u001b[22m\n",
      "MPS stuff     | \u001b[32m  18  \u001b[39m\u001b[36m   18\u001b[39m\n",
      "\u001b[1m\u001b[37mTest Summary: | \u001b[39m\u001b[22m\u001b[1m\u001b[32mPass  \u001b[39m\u001b[22m\u001b[1m\u001b[36mTotal\u001b[39m\u001b[22m\n",
      "apply twosite | \u001b[32m   2  \u001b[39m\u001b[36m    2\u001b[39m\n",
      "\u001b[1m\u001b[37mTest Summary: | \u001b[39m\u001b[22m\u001b[1m\u001b[32mPass  \u001b[39m\u001b[22m\u001b[1m\u001b[36mTotal\u001b[39m\u001b[22m\n",
      "tools         | \u001b[32m   7  \u001b[39m\u001b[36m    7\u001b[39m\n",
      "\u001b[1m\u001b[37mTest Summary: | \u001b[39m\u001b[22m\u001b[1m\u001b[32mPass  \u001b[39m\u001b[22m\u001b[1m\u001b[36mTotal\u001b[39m\u001b[22m\n",
      "ED stuff      | \u001b[32m  10  \u001b[39m\u001b[36m   10\u001b[39m\n",
      "\u001b[1m\u001b[37mTest Summary: | \u001b[39m\u001b[22m\u001b[1m\u001b[32mPass  \u001b[39m\u001b[22m\u001b[1m\u001b[36mTotal\u001b[39m\u001b[22m\n",
      "Fishman       | \u001b[32m   5  \u001b[39m\u001b[36m    5\u001b[39m\n"
     ]
    },
    {
     "data": {
      "text/plain": [
       "Base.Test.DefaultTestSet(\"Fishman\", Any[Base.Test.DefaultTestSet(\"general\", Any[], 2, false), Base.Test.DefaultTestSet(\"compare XY with Free Fermions\", Any[], 3, false)], 0, false)"
      ]
     },
     "execution_count": 4,
     "metadata": {},
     "output_type": "execute_result"
    }
   ],
   "source": [
    "reload(\"Tmp\")\n",
    "include(\"test/runtests.jl\")"
   ]
  },
  {
   "cell_type": "code",
   "execution_count": null,
   "metadata": {},
   "outputs": [
    {
     "name": "stdout",
     "output_type": "stream",
     "text": [
      "gutznorm = (Tmp.norm(mpsgutz))[1, 1] = 0.03300726448939829 + 0.0im\n",
      "(eheis, Tmp.measure(mpsgutz, mpo) / gutznorm, Tmp.measure(mpsheis, mpo)) = "
     ]
    }
   ],
   "source": [
    "Lx = 8\n",
    "\n",
    "Hhs = Tmp.xxz(Lx)\n",
    "eheis, vheis = eigs(Hhs, nev=1, which=:SR)\n",
    "mpsheis = Tmp.MPS(Lx, 2, vheis[:,1])\n",
    "measheis_zz = Tmp.measure(mpsheis, [sz_half, sz_half])\n",
    "measheis_pm = Tmp.measure(mpsheis, [sp_half, sm_half])\n",
    "\n",
    "corr_matrix = Tmp.correlation_matrix(Tmp.hamiltonian_matrix(Lx, -1.0, 1.), div(Lx,2))\n",
    "gmps = Tmp.makeGMPS!(corr_matrix, 1.e-8)\n",
    "mpsgutz = Tmp.gutzwiller_project(Tmp.generateMPS_twoflavors(gmps, 100))\n",
    "@test Tmp.dims_are_consistent(mpsgutz)\n",
    "@show gutznorm = Tmp.norm(mpsgutz)[1,1]\n",
    "\n",
    "measgutz_zz = Tmp.measure(mpsgutz, [sz_half, sz_half])/gutznorm\n",
    "measgutz_pm = Tmp.measure(mpsgutz, [sp_half, sm_half])/gutznorm\n",
    "mpo = Tmp.MPO{Float64}(Lx, 2)\n",
    "@show eheis, Tmp.measure(mpsgutz, mpo)/gutznorm, Tmp.measure(mpsheis, mpo)\n",
    "\n",
    "p1 = plot(real.(measheis_zz[1:Lx-1]), label=\"Heisenberg\")\n",
    "plot!(p1, real.(measgutz_zz[1:Lx-1]), label=\"Gutzwiller-projected fermions\")\n",
    "plot!(p1, imag.(measgutz_zz[1:Lx-1]), label=\"Gutzwiller-projected fermions imaginary\")\n",
    "\n",
    "p2 = plot(real.(measheis_pm[1:Lx-1]), label=\"Heisenberg\")\n",
    "plot!(p2, real.(measgutz_pm[1:Lx-1]), label=\"Gutzwiller-projected fermions\")\n",
    "plot!(p2, imag.(measgutz_pm[1:Lx-1]), label=\"Gutzwiller-projected fermions imaginary\")\n",
    "\n",
    "println(\"here\")\n",
    "\n",
    "vneheis = Tmp.entropy(Tmp.entanglements!(mpsheis))\n",
    "\n",
    "println(\"here\")\n",
    "@show mpsgutz.dims\n",
    "\n",
    "vnegutz = Tmp.entropy(Tmp.entanglements!(mpsgutz))\n",
    "\n",
    "p3 = plot(vneheis)\n",
    "plot!(p3, vnegutz)\n",
    "\n",
    "p4 = plot(collect(1:Lx))\n",
    "plot(p1,p2,p3,p4, layout=(2,2))"
   ]
  },
  {
   "cell_type": "code",
   "execution_count": null,
   "metadata": {
    "collapsed": true
   },
   "outputs": [],
   "source": []
  }
 ],
 "metadata": {
  "kernelspec": {
   "display_name": "Julia 0.6.2",
   "language": "julia",
   "name": "julia-0.6"
  },
  "language_info": {
   "file_extension": ".jl",
   "mimetype": "application/julia",
   "name": "julia",
   "version": "0.6.2"
  }
 },
 "nbformat": 4,
 "nbformat_minor": 2
}
