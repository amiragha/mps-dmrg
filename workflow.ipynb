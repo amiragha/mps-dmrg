{
 "cells": [
  {
   "cell_type": "code",
   "execution_count": 1,
   "metadata": {
    "collapsed": true
   },
   "outputs": [],
   "source": [
    "push!(LOAD_PATH, \"/home/amir/Work/gdmrg\")\n",
    "import Tmp"
   ]
  },
  {
   "cell_type": "code",
   "execution_count": 15,
   "metadata": {},
   "outputs": [
    {
     "name": "stderr",
     "output_type": "stream",
     "text": [
      "WARNING: replacing module Tmp\n"
     ]
    }
   ],
   "source": [
    "reload(\"Tmp\")"
   ]
  },
  {
   "cell_type": "code",
   "execution_count": 3,
   "metadata": {},
   "outputs": [
    {
     "data": {
      "text/plain": [
       "8×8 Array{Float64,2}:\n",
       "  0.5          -0.431043     -7.77156e-16  …  -6.80012e-16   0.114677   \n",
       " -0.431043      0.5          -0.247409        -0.0169671     1.38778e-17\n",
       " -7.77156e-16  -0.247409      0.5              6.93889e-16  -0.131644   \n",
       "  0.183634      7.63278e-17  -0.379053         0.0519901    -2.22045e-16\n",
       "  2.22045e-16   0.0519901    -2.63678e-16     -1.20737e-15   0.183634   \n",
       " -0.131644     -1.11022e-16   0.166667     …  -0.247409      4.44089e-16\n",
       " -6.80012e-16  -0.0169671     6.93889e-16      0.5          -0.431043   \n",
       "  0.114677      1.38778e-17  -0.131644        -0.431043      0.5        "
      ]
     },
     "metadata": {},
     "output_type": "display_data"
    },
    {
     "data": {
      "text/plain": [
       "8×8 Array{Float64,2}:\n",
       "  1.0           3.4521e-16    4.48426e-16  …   1.70855e-15   1.50747e-15\n",
       "  2.25297e-16   0.334277     -0.379837        -1.76686e-15   0.132323   \n",
       "  3.75568e-16  -0.379837      0.460943        -0.0268826    -0.0811366  \n",
       "  1.64799e-16   0.189149     -0.292083         0.0464098    -0.0883982  \n",
       " -1.38778e-17   0.0435749     0.0538938        0.0106916     0.179709   \n",
       "  1.12063e-15  -0.151901      0.0931412    …  -0.247409      4.44089e-16\n",
       "  1.70855e-15  -1.76686e-15  -0.0268826        0.5          -0.431043   \n",
       "  1.50747e-15   0.132323     -0.0811366       -0.431043      0.5        "
      ]
     },
     "metadata": {},
     "output_type": "display_data"
    },
    {
     "data": {
      "text/plain": [
       "8×8 Array{Float64,2}:\n",
       "  1.0           5.87398e-16  -8.6059e-18   …   1.70855e-15   1.50747e-15\n",
       "  4.60422e-16  -4.50816e-18   1.82465e-16      5.29091e-17  -1.17961e-16\n",
       "  4.86448e-17   2.06432e-16   0.5              2.1992e-15   -0.161834   \n",
       " -4.7475e-17   -1.249e-16    -0.435082         0.0546887     1.04916e-14\n",
       " -5.05199e-17   6.93889e-18   9.09342e-15     -3.18148e-15   0.194967   \n",
       "  1.12063e-15   6.93889e-17   0.185778     …  -0.247409      4.44089e-16\n",
       "  1.70855e-15   5.29091e-17   2.1992e-15       0.5          -0.431043   \n",
       "  1.50747e-15  -1.17961e-16  -0.161834        -0.431043      0.5        "
      ]
     },
     "metadata": {},
     "output_type": "display_data"
    },
    {
     "data": {
      "text/plain": [
       "8×8 Array{Float64,2}:\n",
       "  1.0           5.87398e-16  -1.48443e-16  …   1.70855e-15   1.50747e-15\n",
       "  4.60422e-16  -4.50816e-18   2.16126e-16      5.29091e-17  -1.17961e-16\n",
       " -1.346e-16     1.91097e-16   1.0              3.46945e-17   7.10015e-17\n",
       "  1.45262e-16   1.22115e-16  -1.249e-16        2.59515e-15  -0.192882   \n",
       " -3.61589e-16  -8.38364e-17  -1.52656e-16      0.0962528     0.151995   \n",
       "  1.04548e-15   6.79583e-17   2.08167e-17  …  -0.234387      0.0624178  \n",
       "  1.70855e-15   5.29091e-17   3.46945e-17      0.5          -0.431043   \n",
       "  1.50747e-15  -1.17961e-16   7.10015e-17     -0.431043      0.5        "
      ]
     },
     "metadata": {},
     "output_type": "display_data"
    },
    {
     "data": {
      "text/plain": [
       "8×8 Array{Float64,2}:\n",
       "  1.0           5.87398e-16  -1.48443e-16  …   1.70855e-15   1.50747e-15\n",
       "  4.60422e-16  -4.50816e-18   2.16126e-16      5.29091e-17  -1.17961e-16\n",
       " -1.346e-16     1.91097e-16   1.0              3.46945e-17   7.10015e-17\n",
       "  1.41902e-16   3.98055e-17  -1.82471e-16      0.0          -3.46945e-17\n",
       " -6.99422e-17  -1.26508e-16   8.63311e-18     -3.41394e-15   0.253381   \n",
       "  1.10446e-15   9.47113e-17   7.7246e-17   …  -0.253381     -1.38084e-15\n",
       "  1.70855e-15   5.29091e-17   3.46945e-17      0.5          -0.431043   \n",
       "  1.50747e-15  -1.17961e-16   7.10015e-17     -0.431043      0.5        "
      ]
     },
     "metadata": {},
     "output_type": "display_data"
    },
    {
     "data": {
      "text/plain": [
       "8×8 Array{Float64,2}:\n",
       "  1.0           5.87398e-16  -1.48443e-16  …   1.02257e-15   1.50747e-15\n",
       "  4.60422e-16  -4.50816e-18   2.16126e-16      1.51472e-21  -1.17961e-16\n",
       " -1.346e-16     1.91097e-16   1.0             -6.04957e-19   7.10015e-17\n",
       "  1.41902e-16   3.98055e-17  -1.82471e-16     -2.38303e-18  -3.46945e-17\n",
       "  1.35057e-15   8.81256e-18   7.23161e-17     -5.76377e-16   6.10623e-16\n",
       "  1.1268e-15    1.66364e-16   4.47192e-17  …  -0.245794     -0.319636   \n",
       "  1.02478e-15   4.38232e-18  -3.97024e-18      0.704334     -0.384491   \n",
       "  1.50747e-15  -1.17961e-16   7.10015e-17     -0.384491      0.5        "
      ]
     },
     "metadata": {},
     "output_type": "display_data"
    },
    {
     "data": {
      "text/plain": [
       "8×8 Array{Float64,2}:\n",
       "  1.0           5.87398e-16  -1.48443e-16  …   1.48841e-15   1.50747e-15\n",
       "  4.60422e-16  -4.50816e-18   2.16126e-16      9.58626e-17  -1.17961e-16\n",
       " -1.346e-16     1.91097e-16   1.0             -1.77979e-17   7.10015e-17\n",
       "  1.41902e-16   3.98055e-17  -1.82471e-16     -2.79027e-17  -3.46945e-17\n",
       "  1.35057e-15   8.81256e-18   7.23161e-17     -5.85816e-16   6.10623e-16\n",
       "  2.11375e-16   1.25129e-16   3.69263e-17  …  -1.11022e-16  -8.32667e-17\n",
       "  1.50836e-15   1.09722e-16   2.55347e-17      0.5          -0.5        \n",
       "  1.50747e-15  -1.17961e-16   7.10015e-17     -0.5           0.5        "
      ]
     },
     "metadata": {},
     "output_type": "display_data"
    },
    {
     "data": {
      "text/plain": [
       "8×8 Array{Float64,2}:\n",
       "  1.0           5.87398e-16  -1.48443e-16  …   2.11841e-15   1.34792e-17\n",
       "  4.60422e-16  -4.50816e-18   2.16126e-16     -1.5626e-17   -1.51196e-16\n",
       " -1.346e-16     1.91097e-16   1.0              3.76206e-17   6.27907e-17\n",
       "  1.41902e-16   3.98055e-17  -1.82471e-16     -4.42629e-17  -4.80253e-18\n",
       "  1.35057e-15   8.81256e-18   7.23161e-17      1.7541e-17    8.4601e-16 \n",
       "  2.11375e-16   1.25129e-16   3.69263e-17  …  -1.37383e-16   1.96262e-17\n",
       "  2.13252e-15  -5.82619e-18   6.82614e-17     -2.2803e-31   -7.85046e-17\n",
       " -6.28957e-19  -1.60996e-16   3.21499e-17     -1.11022e-16   1.0        "
      ]
     },
     "metadata": {},
     "output_type": "display_data"
    },
    {
     "data": {
      "text/plain": [
       "8×8 Array{Float64,2}:\n",
       "  1.0           5.87398e-16  -1.48443e-16  …   2.11841e-15   1.34792e-17\n",
       "  4.60422e-16  -4.50816e-18   2.16126e-16     -1.5626e-17   -1.51196e-16\n",
       " -1.346e-16     1.91097e-16   1.0              3.76206e-17   6.27907e-17\n",
       "  1.41902e-16   3.98055e-17  -1.82471e-16     -4.42629e-17  -4.80253e-18\n",
       "  1.35057e-15   8.81256e-18   7.23161e-17      1.7541e-17    8.4601e-16 \n",
       "  2.11375e-16   1.25129e-16   3.69263e-17  …  -1.37383e-16   1.96262e-17\n",
       "  2.13252e-15  -5.82619e-18   6.82614e-17     -2.2803e-31   -7.85046e-17\n",
       " -6.28957e-19  -1.60996e-16   3.21499e-17     -1.11022e-16   1.0        "
      ]
     },
     "metadata": {},
     "output_type": "display_data"
    },
    {
     "data": {
      "text/plain": [
       "8-element Array{Float64,1}:\n",
       "  1.0        \n",
       " -4.50816e-18\n",
       "  1.0        \n",
       " -6.37689e-17\n",
       " -2.03007e-17\n",
       "  1.0        \n",
       " -2.2803e-31 \n",
       "  1.0        "
      ]
     },
     "metadata": {},
     "output_type": "display_data"
    },
    {
     "data": {
      "text/plain": [
       "8-element Array{Int64,1}:\n",
       " 1\n",
       " 0\n",
       " 1\n",
       " 0\n",
       " 0\n",
       " 1\n",
       " 0\n",
       " 1"
      ]
     },
     "metadata": {},
     "output_type": "display_data"
    },
    {
     "name": "stdout",
     "output_type": "stream",
     "text": [
      "making correlation matrix...\n",
      "generating the gates(GMPS)...\n",
      "forming MPS from the GMPS gates...\n"
     ]
    },
    {
     "ename": "LoadError",
     "evalue": "\u001b[91mMethodError: no method matching Tmp.MPS(::Int64, ::Int64, ::Array{Int64,1})\u001b[0m\nClosest candidates are:\n  Tmp.MPS(::Any, ::Any, ::Any, \u001b[91m::Any\u001b[39m, \u001b[91m::Any\u001b[39m) at /home/amir/Work/gdmrg/MPS.jl:5\u001b[39m",
     "output_type": "error",
     "traceback": [
      "\u001b[91mMethodError: no method matching Tmp.MPS(::Int64, ::Int64, ::Array{Int64,1})\u001b[0m\nClosest candidates are:\n  Tmp.MPS(::Any, ::Any, ::Any, \u001b[91m::Any\u001b[39m, \u001b[91m::Any\u001b[39m) at /home/amir/Work/gdmrg/MPS.jl:5\u001b[39m",
      "",
      "Stacktrace:",
      " [1] \u001b[1mgenMPSfromGMPS\u001b[22m\u001b[22m\u001b[1m(\u001b[22m\u001b[22m::Tmp.GMPS, ::Int64, ::Bool\u001b[1m)\u001b[22m\u001b[22m at \u001b[1m/home/amir/Work/gdmrg/genMPS.jl:4\u001b[22m\u001b[22m",
      " [2] \u001b[1mrunstuff\u001b[22m\u001b[22m\u001b[1m(\u001b[22m\u001b[22m::Int64, ::Int64, ::Bool\u001b[1m)\u001b[22m\u001b[22m at \u001b[1m/home/amir/Work/gdmrg/run.jl:12\u001b[22m\u001b[22m",
      " [3] \u001b[1mrunstuff\u001b[22m\u001b[22m\u001b[1m(\u001b[22m\u001b[22m::Int64, ::Int64\u001b[1m)\u001b[22m\u001b[22m at \u001b[1m/home/amir/Work/gdmrg/run.jl:2\u001b[22m\u001b[22m"
     ]
    }
   ],
   "source": [
    "Tmp.runstuff(8,100)"
   ]
  },
  {
   "cell_type": "code",
   "execution_count": 16,
   "metadata": {},
   "outputs": [
    {
     "name": "stdout",
     "output_type": "stream",
     "text": [
      "S = [1.41421, 1.41421]\n",
      "ratio = 1.0\n"
     ]
    },
    {
     "data": {
      "text/plain": [
       "1.0"
      ]
     },
     "execution_count": 16,
     "metadata": {},
     "output_type": "execute_result"
    }
   ],
   "source": [
    "singlet = Vector{Complex128}([0, 1, -1, 0])\n",
    "ketstate = kron(singlet, singlet)\n",
    "Tmp.MPS(4, 2^4, 2, ketstate)"
   ]
  },
  {
   "cell_type": "code",
   "execution_count": null,
   "metadata": {
    "collapsed": true
   },
   "outputs": [],
   "source": []
  }
 ],
 "metadata": {
  "kernelspec": {
   "display_name": "Julia 0.6.1",
   "language": "julia",
   "name": "julia-0.6"
  },
  "language_info": {
   "file_extension": ".jl",
   "mimetype": "application/julia",
   "name": "julia",
   "version": "0.6.1"
  }
 },
 "nbformat": 4,
 "nbformat_minor": 2
}
