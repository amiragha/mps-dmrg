{
 "cells": [
  {
   "cell_type": "code",
   "execution_count": null,
   "metadata": {
    "collapsed": true
   },
   "outputs": [],
   "source": [
    "push!(LOAD_PATH, \"/home/amir/Work/gdmrg\")\n",
    "import Tmp"
   ]
  },
  {
   "cell_type": "code",
   "execution_count": null,
   "metadata": {},
   "outputs": [],
   "source": [
    "reload(\"Tmp\")\n",
    "include(\"test.jl\")"
   ]
  },
  {
   "cell_type": "code",
   "execution_count": null,
   "metadata": {},
   "outputs": [],
   "source": [
    "Lx = 14\n",
    "H = Tmp.heisenberg(Lx)\n",
    "e, v = eigs(H, nev=1, which=:SR)"
   ]
  },
  {
   "cell_type": "code",
   "execution_count": null,
   "metadata": {},
   "outputs": [],
   "source": [
    "mps = Tmp.MPS(Lx, 2, v[:,1])\n",
    "@show mps.dims\n",
    "mpo = Tmp.MPO{Float64}(Lx, 2)\n",
    "\n",
    "sz = Float64[0.5 0; 0 -0.5]\n",
    "@show Tmp.measure(mps, mpo) ≈ e\n",
    "@show Tmp.measure(mps, sz, 1)\n",
    "@show Tmp.measure(mps, sz, collect(1:Lx))\n",
    "correlations = Float64[]\n",
    "for i=1:Lx-1\n",
    "    for j=i+1:Lx\n",
    "        push!(correlations, Tmp.measure(mps, [sz,sz], [i,j])[1,1])\n",
    "    end\n",
    "end"
   ]
  },
  {
   "cell_type": "code",
   "execution_count": null,
   "metadata": {},
   "outputs": [],
   "source": [
    "using Plots\n",
    "using LaTeXStrings\n",
    "font = Plots.font(\"Helvetica\", 12)\n",
    "pyplot(guidefont=font, xtickfont=font, ytickfont=font, legendfont=font)\n",
    "\n",
    "plot(correlations[1:Lx-1], label=L\"$\\langle S^z \\cdot S^z \\rangle$\")"
   ]
  },
  {
   "cell_type": "code",
   "execution_count": null,
   "metadata": {},
   "outputs": [],
   "source": [
    "Tmp.correlation_matrix(8, 4, 1.0, 0.0, :period)"
   ]
  },
  {
   "cell_type": "code",
   "execution_count": null,
   "metadata": {
    "collapsed": true
   },
   "outputs": [],
   "source": []
  }
 ],
 "metadata": {
  "kernelspec": {
   "display_name": "Julia 0.6.1",
   "language": "julia",
   "name": "julia-0.6"
  },
  "language_info": {
   "file_extension": ".jl",
   "mimetype": "application/julia",
   "name": "julia",
   "version": "0.6.1"
  }
 },
 "nbformat": 4,
 "nbformat_minor": 2
}
