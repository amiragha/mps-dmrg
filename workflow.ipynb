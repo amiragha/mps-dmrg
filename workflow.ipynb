{
 "cells": [
  {
   "cell_type": "code",
   "execution_count": 3,
   "metadata": {
    "collapsed": true
   },
   "outputs": [],
   "source": [
    "push!(LOAD_PATH, \"/home/amir/Work/gdmrg\")\n",
    "import Tmp"
   ]
  },
  {
   "cell_type": "code",
   "execution_count": 38,
   "metadata": {},
   "outputs": [
    {
     "name": "stderr",
     "output_type": "stream",
     "text": [
      "WARNING: replacing module Tmp\n"
     ]
    },
    {
     "data": {
      "text/plain": [
       "\u001b[1m\u001b[32mTest Passed\u001b[39m\u001b[22m"
      ]
     },
     "execution_count": 38,
     "metadata": {},
     "output_type": "execute_result"
    }
   ],
   "source": [
    "reload(\"Tmp\")\n",
    "include(\"test.jl\")"
   ]
  },
  {
   "cell_type": "code",
   "execution_count": null,
   "metadata": {},
   "outputs": [],
   "source": [
    "Tmp.runstuff(8,100)"
   ]
  },
  {
   "cell_type": "code",
   "execution_count": 39,
   "metadata": {},
   "outputs": [
    {
     "data": {
      "text/plain": [
       "1×1×1 Array{Float64,3}:\n",
       "[:, :, 1] =\n",
       " -6.0"
      ]
     },
     "execution_count": 39,
     "metadata": {},
     "output_type": "execute_result"
    }
   ],
   "source": [
    "singlet = Vector{Complex128}([0, 1, -1, 0])\n",
    "ketstate = kron(singlet, singlet)\n",
    "mps = Tmp.MPS(4, 2, ketstate)\n",
    "mpo = Tmp.MPO(4, 2)\n",
    "Tmp.expectation_mpo(mps, mpo)"
   ]
  },
  {
   "cell_type": "code",
   "execution_count": 31,
   "metadata": {},
   "outputs": [
    {
     "name": "stdout",
     "output_type": "stream",
     "text": [
      "Complex{Float64}[0.0+0.0im 0.0+0.0im; 0.0+0.0im 0.0+0.0im]\n",
      "Complex{Float64}[0.0+0.0im 0.0+0.0im; 1.0+0.0im 0.0+0.0im]\n",
      "Complex{Float64}[0.0+0.0im 1.0+0.0im; 0.0+0.0im 0.0+0.0im]\n",
      "Complex{Float64}[0.5+0.0im 0.0+0.0im; 0.0+0.0im -0.5+0.0im]\n",
      "Complex{Float64}[1.0+0.0im 0.0+0.0im; 0.0+0.0im 1.0+0.0im]\n"
     ]
    }
   ],
   "source": [
    "mpo = Tmp.MPO(2,2)\n",
    "for i=1:5\n",
    "    println(mpo.matrices[1][:,1,:,i])\n",
    "end"
   ]
  },
  {
   "cell_type": "code",
   "execution_count": null,
   "metadata": {
    "collapsed": true
   },
   "outputs": [],
   "source": []
  }
 ],
 "metadata": {
  "kernelspec": {
   "display_name": "Julia 0.6.1",
   "language": "julia",
   "name": "julia-0.6"
  },
  "language_info": {
   "file_extension": ".jl",
   "mimetype": "application/julia",
   "name": "julia",
   "version": "0.6.1"
  }
 },
 "nbformat": 4,
 "nbformat_minor": 2
}
