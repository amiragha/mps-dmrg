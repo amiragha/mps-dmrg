{
 "cells": [
  {
   "cell_type": "code",
   "execution_count": null,
   "metadata": {},
   "outputs": [],
   "source": [
    "push!(LOAD_PATH, \"/home/amir/Work/gdmrg\")\n",
    "import Tmp"
   ]
  },
  {
   "cell_type": "code",
   "execution_count": null,
   "metadata": {},
   "outputs": [],
   "source": [
    "reload(\"Tmp\")\n",
    "include(\"test.jl\")"
   ]
  },
  {
   "cell_type": "code",
   "execution_count": null,
   "metadata": {},
   "outputs": [],
   "source": [
    "Lx = 14\n",
    "H = Tmp.heisenberg(Lx)\n",
    "eheis, vheis = eigs(H, nev=1, which=:SR)"
   ]
  },
  {
   "cell_type": "code",
   "execution_count": null,
   "metadata": {},
   "outputs": [],
   "source": [
    "mps = Tmp.MPS(Lx, 2, vheis[:,1])\n",
    "@show mps.dims\n",
    "mpo = Tmp.MPO{Float64}(Lx, 2)\n",
    "\n",
    "sz = Float64[0.5 0; 0 -0.5]\n",
    "@show Tmp.measure(mps, mpo) ≈ eheis\n",
    "@show Tmp.measure(mps, sz, 1)\n",
    "@show Tmp.measure(mps, sz, collect(1:Lx))\n",
    "correlations = Float64[]\n",
    "for i=1:Lx-1\n",
    "    for j=i+1:Lx\n",
    "        push!(correlations, Tmp.measure(mps, [sz,sz], [i,j])[1,1])\n",
    "    end\n",
    "end"
   ]
  },
  {
   "cell_type": "code",
   "execution_count": null,
   "metadata": {},
   "outputs": [],
   "source": [
    "using Plots\n",
    "using LaTeXStrings\n",
    "font = Plots.font(\"Helvetica\", 12)\n",
    "pyplot(guidefont=font, xtickfont=font, ytickfont=font, legendfont=font)\n",
    "\n",
    "plot(correlations[1:Lx-1], label=L\"$\\langle S^z \\cdot S^z \\rangle$\")"
   ]
  },
  {
   "cell_type": "code",
   "execution_count": null,
   "metadata": {},
   "outputs": [],
   "source": [
    "vnes = Tmp.entropy(Tmp.entanglements!(mps))\n",
    "plot(vnes)"
   ]
  },
  {
   "cell_type": "code",
   "execution_count": null,
   "metadata": {},
   "outputs": [],
   "source": [
    "srand(0)\n",
    "reload(\"Tmp\")\n",
    "# TODO:\n",
    "# test canonicaize to right and left\n",
    "# and center_at (how?)\n",
    "Lx = 14\n",
    "d = 2\n",
    "mps = Tmp.MPS(Lx, d, normalize(rand(Complex128, d^Lx)))\n",
    "#Tmp.display_matrices(mps,3:4)\n",
    "before=Tmp.mps2ketstate(mps)\n",
    "\n",
    "#@show \n",
    "ents = Tmp.entanglements!(mps)\n",
    "\n",
    "#@show\n",
    "Tmp.move_center!(mps, 3)\n",
    "\n",
    "# @show ents = Tmp.entanglements!(mps)\n",
    "\n",
    "# @show Tmp.move_center!(mps, 2)\n",
    "\n",
    "# @show ents = Tmp.entanglements!(mps)\n",
    "\n",
    "# @show Tmp.move_center!(mps, 1)\n",
    "\n",
    "# @show ents = Tmp.entanglements!(mps)\n",
    "\n",
    "# @show Tmp.move_center!(mps, 4)\n",
    "\n",
    "# @show ents = Tmp.entanglements!(mps)\n",
    "\n",
    "after=Tmp.mps2ketstate(mps)\n",
    "\n",
    "@show before ≈ after\n",
    "vnes = Tmp.entropy(Tmp.entanglements!(mps))\n",
    "plot(vnes)"
   ]
  },
  {
   "cell_type": "code",
   "execution_count": null,
   "metadata": {},
   "outputs": [],
   "source": [
    "# write and test the overlap function\n",
    "# test and fix the apply unitary function and possibly generalize\n",
    "# And move to the last step: Fishman White approach"
   ]
  },
  {
   "cell_type": "code",
   "execution_count": null,
   "metadata": {
    "collapsed": true
   },
   "outputs": [],
   "source": [
    "Lx=8\n",
    "corr_matrix = Tmp.correlation_matrix(Lx)\n",
    "display(corr_matrix)\n",
    "gmps = Tmp.makeGMPS!(corr_matrix, 1.e-8)\n",
    "mps = Tmp.generateMPS(gmps, 100)"
   ]
  }
 ],
 "metadata": {
  "kernelspec": {
   "display_name": "Julia 0.6.1",
   "language": "julia",
   "name": "julia-0.6"
  },
  "language_info": {
   "file_extension": ".jl",
   "mimetype": "application/julia",
   "name": "julia",
   "version": "0.6.1"
  }
 },
 "nbformat": 4,
 "nbformat_minor": 2
}
