{
 "cells": [
  {
   "cell_type": "code",
   "execution_count": null,
   "metadata": {
    "collapsed": true
   },
   "outputs": [],
   "source": [
    "push!(LOAD_PATH, \"/home/amir/Work/gdmrg/src/\")\n",
    "import Tmp\n",
    "using Plots\n",
    "using LaTeXStrings"
   ]
  },
  {
   "cell_type": "code",
   "execution_count": null,
   "metadata": {
    "collapsed": true
   },
   "outputs": [],
   "source": [
    "sz_half = Tmp.sz_half;\n",
    "sp_half = Tmp.sp_half;\n",
    "sm_half = Tmp.sm_half;"
   ]
  },
  {
   "cell_type": "code",
   "execution_count": null,
   "metadata": {
    "collapsed": true
   },
   "outputs": [],
   "source": [
    "### loading example files for illustration ###\n",
    "#include(\"example-01-compareHeisVsRandom.jl\")"
   ]
  },
  {
   "cell_type": "code",
   "execution_count": null,
   "metadata": {},
   "outputs": [],
   "source": [
    "reload(\"Tmp\")\n",
    "include(\"test/runtests.jl\")"
   ]
  },
  {
   "cell_type": "code",
   "execution_count": null,
   "metadata": {},
   "outputs": [],
   "source": [
    "flatten(list) = collect(Base.Iterators.flatten(list))\n",
    "\n",
    "Lx = 12\n",
    "\n",
    "Hhs = Tmp.xxz(Lx)\n",
    "eheis, vheis = eigs(Hhs, nev=1, which=:SR)\n",
    "mpsheis = Tmp.MPS(Lx, 2, vheis[:,1])\n",
    "measheis_z = flatten(Tmp.measure(mpsheis, sz_half, collect(1:Lx)))\n",
    "measheis_zz = Tmp.measure(mpsheis, [sz_half, sz_half])\n",
    "measheis_pm = Tmp.measure(mpsheis, [sp_half, sm_half])\n",
    "\n",
    "corr_matrix = Tmp.correlation_matrix(Tmp.hamiltonian_matrix(Lx, 1.0, 1.), div(Lx,2))\n",
    "gmps = Tmp.makeGMPS!(corr_matrix, 1.e-8)\n",
    "\n",
    "twoflavormps = Tmp.generateMPS_twoflavors(gmps, 400)\n",
    "@show twoflavormps.dims\n",
    "mpsgutz = Tmp.gutzwiller_project(twoflavormps)\n",
    "\n",
    "@show gutznorm = real(Tmp.norm(mpsgutz)[1,1])\n",
    "\n",
    "measgutz_z = flatten(Tmp.measure(mpsgutz, sz_half, collect(1:Lx)))\n",
    "measgutz_zz = Tmp.measure(mpsgutz, [sz_half, sz_half])/gutznorm\n",
    "measgutz_pm = Tmp.measure(mpsgutz, [sp_half, sm_half])/gutznorm\n",
    "mpo = Tmp.MPO{Float64}(Lx, 2)\n",
    "\n",
    "@show eheis, Tmp.measure(mpsgutz, mpo)/gutznorm, Tmp.measure(mpsheis, mpo)\n",
    "@show Tmp.overlap(mpsheis, mpsgutz)/sqrt(gutznorm)\n",
    "\n",
    "p1 = plot(measheis_zz[1:Lx-1], label=\"Heisenberg\", title=L\"\\langle s^z,s^z \\rangle\")\n",
    "plot!(p1, real.(measgutz_zz[1:Lx-1]), label=\"Gutzwiller\")\n",
    "#plot!(p1, imag.(measgutz_zz[1:Lx-1]), label=\"Gutzwiller imaginary\")\n",
    "\n",
    "p2 = plot(real.(measheis_pm[1:Lx-1]), label=\"Heisenberg\", title=L\"\\langle s^+,s^- \\rangle\")\n",
    "plot!(p2, real.(measgutz_pm[1:Lx-1]), label=\"Gutzwiller\")\n",
    "#plot!(p2, imag.(measgutz_pm[1:Lx-1]), label=\"Gutzwiller imaginary\")\n",
    "\n",
    "@show mpsgutz.dims\n",
    "\n",
    "p3 = plot(real.(measheis_z), label=\"Heisenberg\", title=\"bond texture\")\n",
    "plot!(p3, real.(measgutz_z), label=\"Gutzwiller\")\n",
    "\n",
    "vneheis = Tmp.entropy(Tmp.entanglements!(mpsheis))\n",
    "vnegutz = Tmp.entropy(Tmp.entanglements!(mpsgutz))\n",
    "\n",
    "p4 = plot(vneheis, label=\"Heisenberg\", title=\"Entropies\")\n",
    "plot!(p4, label=\"Gutzwiller\", vnegutz)\n",
    "\n",
    "plot(p1,p2,p3,p4, layout=(2,2))"
   ]
  },
  {
   "cell_type": "code",
   "execution_count": null,
   "metadata": {},
   "outputs": [],
   "source": []
  },
  {
   "cell_type": "code",
   "execution_count": null,
   "metadata": {},
   "outputs": [],
   "source": []
  },
  {
   "cell_type": "code",
   "execution_count": null,
   "metadata": {
    "collapsed": true
   },
   "outputs": [],
   "source": []
  }
 ],
 "metadata": {
  "kernelspec": {
   "display_name": "Julia 0.6.2",
   "language": "julia",
   "name": "julia-0.6"
  },
  "language_info": {
   "file_extension": ".jl",
   "mimetype": "application/julia",
   "name": "julia",
   "version": "0.6.2"
  }
 },
 "nbformat": 4,
 "nbformat_minor": 2
}
