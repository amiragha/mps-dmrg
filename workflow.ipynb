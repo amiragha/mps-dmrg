{
 "cells": [
  {
   "cell_type": "code",
   "execution_count": null,
   "metadata": {
    "collapsed": true
   },
   "outputs": [],
   "source": [
    "push!(LOAD_PATH, \"/home/amir/Work/gdmrg\")\n",
    "import Tmp"
   ]
  },
  {
   "cell_type": "code",
   "execution_count": null,
   "metadata": {},
   "outputs": [],
   "source": [
    "reload(\"Tmp\")\n",
    "include(\"test.jl\")"
   ]
  },
  {
   "cell_type": "code",
   "execution_count": null,
   "metadata": {},
   "outputs": [],
   "source": [
    "using Plots\n",
    "using LaTeXStrings\n",
    "font = Plots.font(\"Helvetica\", 12)\n",
    "pyplot(guidefont=font, xtickfont=font, ytickfont=font, legendfont=font)"
   ]
  },
  {
   "cell_type": "code",
   "execution_count": null,
   "metadata": {},
   "outputs": [],
   "source": [
    "##### this will become a tutorial\n",
    "Lx = 16\n",
    "\n",
    "# The Bethe chain ground state\n",
    "\n",
    "H, indeces = Tmp.heisenberg_szblock(Lx)\n",
    "eheis, v = eigs(H, nev=1, which=:SR)\n",
    "vheis = full(sparsevec(indeces, v[:,1], 2^Lx))\n",
    "\n",
    "mps = Tmp.MPS(Lx, 2, vheis);\n",
    "sz = Float64[0.5 0; 0 -0.5]\n",
    "\n",
    "# random state\n",
    "randmps = Tmp.MPS(Lx, 2, normalize(complex.(randn(2^Lx), randn(2^Lx))))\n",
    "\n",
    "# calculate the overlap\n",
    "overlap = Tmp.overlap(mps, randmps)[1]\n",
    "@show abs(overlap), angle(overlap)\n",
    "\n",
    "sz = Float64[0.5 0; 0 -0.5]\n",
    "correlations = Tmp.measure(mps, [sz,sz], :half)\n",
    "p1 = plot(correlations[1:Lx-1], label=\"Heis GS\", title=\"correlations\")\n",
    "\n",
    "sz = Complex128[0.5 0; 0 -0.5]\n",
    "correlations_random = Tmp.measure(randmps, [sz,sz], :half)\n",
    "p2 = plot(real(correlations_random[1:Lx-1]), label=\"random\", title=\"correlations\")\n",
    "plot!(p2, imag(correlations_random[1:Lx-1]), label=\"imag\")\n",
    "\n",
    "display(\n",
    "    plot(p1,p2, layout=(1,2), size=(800,200), show=true)\n",
    ")\n",
    "\n",
    "vnes_mps = Tmp.entropy(Tmp.entanglements!(mps))\n",
    "vnes_randmps = Tmp.entropy(Tmp.entanglements!(randmps))\n",
    "p3 = plot(vnes_mps, label=\"Heis GS\", title=\"Entaglement entropies\")\n",
    "p4 = plot(vnes_randmps, label=\"random\", title=\"Entanglement entropies\")\n",
    "plot!(p4, [1, Lx/2, Lx-1], [1, Lx/2, 1], label=\"linear\")\n",
    "\n",
    "display(\n",
    "    plot(p3,p4, layout=(1,2), size=(800,200), show=true)\n",
    ")"
   ]
  },
  {
   "cell_type": "code",
   "execution_count": null,
   "metadata": {
    "collapsed": true
   },
   "outputs": [],
   "source": [
    "#reload(\"Tmp\")\n",
    "# convert method ### IS THIS NEEDED?!\n",
    "#convert(Tmp.MPS{Complex128}, mps)\n",
    "\n",
    "# test and fix the apply unitary function and possibly generalize\n",
    "\n",
    "# And move to the last step: Fishman White approach"
   ]
  },
  {
   "cell_type": "code",
   "execution_count": null,
   "metadata": {
    "collapsed": true
   },
   "outputs": [],
   "source": [
    "Lx=8\n",
    "corr_matrix = Tmp.correlation_matrix(Lx)\n",
    "display(corr_matrix)\n",
    "gmps = Tmp.makeGMPS!(corr_matrix, 1.e-8)\n",
    "mps = Tmp.generateMPS(gmps, 100)"
   ]
  }
 ],
 "metadata": {
  "kernelspec": {
   "display_name": "Julia 0.6.1",
   "language": "julia",
   "name": "julia-0.6"
  },
  "language_info": {
   "file_extension": ".jl",
   "mimetype": "application/julia",
   "name": "julia",
   "version": "0.6.2"
  }
 },
 "nbformat": 4,
 "nbformat_minor": 2
}
