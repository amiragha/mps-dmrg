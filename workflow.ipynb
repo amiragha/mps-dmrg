{
 "cells": [
  {
   "cell_type": "code",
   "execution_count": null,
   "metadata": {
    "collapsed": true
   },
   "outputs": [],
   "source": [
    "push!(LOAD_PATH, \"/home/amir/Work/gdmrg\")\n",
    "import Tmp\n",
    "using Plots\n",
    "using LaTeXStrings"
   ]
  },
  {
   "cell_type": "code",
   "execution_count": null,
   "metadata": {
    "collapsed": true
   },
   "outputs": [],
   "source": [
    "### loading example files for illustration ###\n",
    "#include(\"example-01-compareHeisVsRandom.jl\")"
   ]
  },
  {
   "cell_type": "code",
   "execution_count": null,
   "metadata": {},
   "outputs": [],
   "source": [
    "reload(\"Tmp\")\n",
    "include(\"test.jl\")"
   ]
  },
  {
   "cell_type": "code",
   "execution_count": null,
   "metadata": {},
   "outputs": [],
   "source": [
    "Lx=8\n",
    "corr_matrix = Tmp.correlation_matrix(Lx)\n",
    "display(corr_matrix)\n",
    "gmps = Tmp.makeGMPS!(corr_matrix, 1.e-8)"
   ]
  },
  {
   "cell_type": "code",
   "execution_count": null,
   "metadata": {},
   "outputs": [],
   "source": [
    "H = Tmp.xxz(8, 0.0)\n",
    "exy, vxy = eigs(H, nev=1, which=:SR)\n",
    "mpsxy = Tmp.MPS(8, 2, vxy[:,1])\n",
    "mpsff = Tmp.generateMPS(gmps, 100)"
   ]
  },
  {
   "cell_type": "code",
   "execution_count": null,
   "metadata": {},
   "outputs": [],
   "source": [
    "@show mpsxy.dims\n",
    "@show mpsff.dims\n",
    "@show Tmp.dims_are_consistent(mpsxy)\n",
    "@show Tmp.dims_are_consistent(mpsff)"
   ]
  },
  {
   "cell_type": "code",
   "execution_count": null,
   "metadata": {},
   "outputs": [],
   "source": [
    "sz = Complex128[0.5 0.;0. -0.5]\n",
    "sp = Complex128[0.0 1.;0. 0.0]\n",
    "sm = Complex128[0.0 0.;1. 0.0]\n",
    "@show Tmp.measure(mpsff, [sz,sz]) ≈ Tmp.measure(mpsxy, [real.(sz),real.(sz)])"
   ]
  },
  {
   "cell_type": "code",
   "execution_count": null,
   "metadata": {
    "collapsed": true
   },
   "outputs": [],
   "source": []
  }
 ],
 "metadata": {
  "kernelspec": {
   "display_name": "Julia 0.6.1",
   "language": "julia",
   "name": "julia-0.6"
  },
  "language_info": {
   "file_extension": ".jl",
   "mimetype": "application/julia",
   "name": "julia",
   "version": "0.6.2"
  }
 },
 "nbformat": 4,
 "nbformat_minor": 2
}
