{
 "cells": [
  {
   "cell_type": "code",
   "execution_count": 2,
   "metadata": {},
   "outputs": [],
   "source": [
    "push!(LOAD_PATH, \"/home/amir/Work/gdmrg\")\n",
    "import Tmp"
   ]
  },
  {
   "cell_type": "code",
   "execution_count": 17,
   "metadata": {},
   "outputs": [
    {
     "name": "stderr",
     "output_type": "stream",
     "text": [
      "WARNING: replacing module Tmp\n"
     ]
    },
    {
     "data": {
      "text/plain": [
       "\u001b[1m\u001b[32mTest Passed\u001b[39m\u001b[22m"
      ]
     },
     "execution_count": 17,
     "metadata": {},
     "output_type": "execute_result"
    }
   ],
   "source": [
    "reload(\"Tmp\")\n",
    "include(\"test.jl\")"
   ]
  },
  {
   "cell_type": "code",
   "execution_count": null,
   "metadata": {
    "collapsed": true
   },
   "outputs": [],
   "source": [
    "Lx = 14\n",
    "H = Tmp.heisenberg(Lx)\n",
    "e, v = eigs(H, nev=1, which=:SR)"
   ]
  },
  {
   "cell_type": "code",
   "execution_count": null,
   "metadata": {
    "collapsed": true
   },
   "outputs": [],
   "source": [
    "mps = Tmp.MPS(Lx, 2, v[:,1])\n",
    "@show mps.dims\n",
    "mpo = Tmp.MPO{Float64}(Lx, 2)\n",
    "\n",
    "sz = Float64[0.5 0; 0 -0.5]\n",
    "@show Tmp.measure(mps, mpo) ≈ e\n",
    "@show Tmp.measure(mps, sz, 1)\n",
    "@show Tmp.measure(mps, sz, collect(1:Lx))\n",
    "correlations = Float64[]\n",
    "for i=1:Lx-1\n",
    "    for j=i+1:Lx\n",
    "        push!(correlations, Tmp.measure(mps, [sz,sz], [i,j])[1,1])\n",
    "    end\n",
    "end"
   ]
  },
  {
   "cell_type": "code",
   "execution_count": null,
   "metadata": {
    "collapsed": true
   },
   "outputs": [],
   "source": [
    "using Plots\n",
    "using LaTeXStrings\n",
    "font = Plots.font(\"Helvetica\", 12)\n",
    "pyplot(guidefont=font, xtickfont=font, ytickfont=font, legendfont=font)\n",
    "\n",
    "plot(correlations[1:Lx-1], label=L\"$\\langle S^z \\cdot S^z \\rangle$\")"
   ]
  },
  {
   "cell_type": "code",
   "execution_count": 63,
   "metadata": {},
   "outputs": [
    {
     "name": "stdout",
     "output_type": "stream",
     "text": [
      "ents = Tmp.entanglements!(mps) = Array{Float64,1}[[0.905114, 0.425169], [0.895423, 0.358885, 0.230395, 0.127815], [0.932502, 0.361164]]\n",
      "Tmp.move_center!(mps, 3) = 3\n",
      "ents = Tmp.entanglements!(mps) = Array{Float64,1}[[0.905114, 0.425169], [0.895423, 0.358885, 0.230395, 0.127815], [0.932502, 0.361164]]\n",
      "Tmp.move_center!(mps, 2) = 2\n",
      "ents = Tmp.entanglements!(mps) = Array{Float64,1}[[0.905114, 0.425169], [0.895423, 0.358885, 0.230395, 0.127815], [0.932502, 0.361164]]\n",
      "Tmp.move_center!(mps, 1) = 1\n",
      "ents = Tmp.entanglements!(mps) = Array{Float64,1}[[0.905114, 0.425169], [0.895423, 0.358885, 0.230395, 0.127815], [0.932502, 0.361164]]\n",
      "Tmp.move_center!(mps, 4) = 4\n",
      "ents = Tmp.entanglements!(mps) = Array{Float64,1}[[0.905114, 0.425169], [0.895423, 0.358885, 0.230395, 0.127815], [0.932502, 0.361164]]\n"
     ]
    },
    {
     "name": "stderr",
     "output_type": "stream",
     "text": [
      "WARNING: replacing module Tmp\n"
     ]
    },
    {
     "ename": "LoadError",
     "evalue": "\u001b[91mUndefVarError: spectrum not defined\u001b[39m",
     "output_type": "error",
     "traceback": [
      "\u001b[91mUndefVarError: spectrum not defined\u001b[39m",
      "",
      "Stacktrace:",
      " [1] \u001b[1mentropy\u001b[22m\u001b[22m\u001b[1m(\u001b[22m\u001b[22m::Array{Array{Float64,1},1}, ::Int64\u001b[1m)\u001b[22m\u001b[22m at \u001b[1m/home/amir/Work/gdmrg/tools.jl:42\u001b[22m\u001b[22m",
      " [2] \u001b[1mentropy\u001b[22m\u001b[22m\u001b[1m(\u001b[22m\u001b[22m::Array{Array{Float64,1},1}\u001b[1m)\u001b[22m\u001b[22m at \u001b[1m/home/amir/Work/gdmrg/tools.jl:40\u001b[22m\u001b[22m"
     ]
    }
   ],
   "source": [
    "srand(0)\n",
    "reload(\"Tmp\")\n",
    "# TODO:\n",
    "# test canonicaize to right and left\n",
    "# and center_at (how?)\n",
    "Lx = 4\n",
    "d = 2\n",
    "mps = Tmp.MPS(Lx, d, normalize(rand(Complex128, d^Lx)))\n",
    "#Tmp.display_matrices(mps,3:4)\n",
    "before=Tmp.mps2ketstate(mps)\n",
    "\n",
    "@show ents = Tmp.entanglements!(mps)\n",
    "\n",
    "@show Tmp.move_center!(mps, 3)\n",
    "\n",
    "@show ents = Tmp.entanglements!(mps)\n",
    "\n",
    "@show Tmp.move_center!(mps, 2)\n",
    "\n",
    "@show ents = Tmp.entanglements!(mps)\n",
    "\n",
    "@show Tmp.move_center!(mps, 1)\n",
    "\n",
    "@show ents = Tmp.entanglements!(mps)\n",
    "\n",
    "@show Tmp.move_center!(mps, 4)\n",
    "\n",
    "@show ents = Tmp.entanglements!(mps)\n",
    "\n",
    "after=Tmp.mps2ketstate(mps)\n",
    "\n",
    "before ≈ after\n",
    "Tmp.entropy(Tmp.entanglements!(mps))"
   ]
  },
  {
   "cell_type": "code",
   "execution_count": 21,
   "metadata": {},
   "outputs": [
    {
     "data": {
      "text/plain": [
       "8×8 Array{Float64,2}:\n",
       "  0.5          -0.431043     -7.77156e-16  …  -6.80012e-16   0.114677   \n",
       " -0.431043      0.5          -0.247409        -0.0169671     1.38778e-17\n",
       " -7.77156e-16  -0.247409      0.5              6.93889e-16  -0.131644   \n",
       "  0.183634      7.63278e-17  -0.379053         0.0519901    -2.22045e-16\n",
       "  2.22045e-16   0.0519901    -2.63678e-16     -1.20737e-15   0.183634   \n",
       " -0.131644     -1.11022e-16   0.166667     …  -0.247409      4.44089e-16\n",
       " -6.80012e-16  -0.0169671     6.93889e-16      0.5          -0.431043   \n",
       "  0.114677      1.38778e-17  -0.131644        -0.431043      0.5        "
      ]
     },
     "metadata": {},
     "output_type": "display_data"
    },
    {
     "data": {
      "text/plain": [
       "8×8 Array{Float64,2}:\n",
       "  1.0           3.4521e-16    4.48426e-16  …   1.70855e-15   1.50747e-15\n",
       "  2.25297e-16   0.334277     -0.379837        -1.76686e-15   0.132323   \n",
       "  3.75568e-16  -0.379837      0.460943        -0.0268826    -0.0811366  \n",
       "  1.64799e-16   0.189149     -0.292083         0.0464098    -0.0883982  \n",
       " -1.38778e-17   0.0435749     0.0538938        0.0106916     0.179709   \n",
       "  1.12063e-15  -0.151901      0.0931412    …  -0.247409      4.44089e-16\n",
       "  1.70855e-15  -1.76686e-15  -0.0268826        0.5          -0.431043   \n",
       "  1.50747e-15   0.132323     -0.0811366       -0.431043      0.5        "
      ]
     },
     "metadata": {},
     "output_type": "display_data"
    },
    {
     "data": {
      "text/plain": [
       "8×8 Array{Float64,2}:\n",
       "  1.0           5.87398e-16  -8.6059e-18   …   1.70855e-15   1.50747e-15\n",
       "  4.60422e-16  -1.50127e-17   2.17501e-16      1.41055e-16  -2.25514e-16\n",
       "  4.86448e-17   2.75821e-16   0.5              2.26284e-15  -0.161834   \n",
       " -4.7475e-17   -1.2837e-16   -0.435082         0.0546887     1.09773e-14\n",
       " -5.05199e-17  -2.08167e-17   9.49241e-15     -3.26822e-15   0.194967   \n",
       "  1.12063e-15   5.55112e-17   0.185778     …  -0.247409      4.44089e-16\n",
       "  1.70855e-15   1.41055e-16   2.26284e-15      0.5          -0.431043   \n",
       "  1.50747e-15  -2.25514e-16  -0.161834        -0.431043      0.5        "
      ]
     },
     "metadata": {},
     "output_type": "display_data"
    },
    {
     "data": {
      "text/plain": [
       "8×8 Array{Float64,2}:\n",
       "  1.0           5.87398e-16  -1.48443e-16  …   1.70855e-15   1.50747e-15\n",
       "  4.60422e-16  -1.50127e-17   2.11501e-16      1.41055e-16  -2.25514e-16\n",
       " -1.346e-16     2.2083e-16    1.0              8.11851e-16   9.86936e-16\n",
       "  1.45262e-16   1.85536e-16   3.747e-16        2.16493e-15  -0.192882   \n",
       " -3.61589e-16  -1.0379e-16   -1.94289e-16      0.0962528     0.151995   \n",
       "  1.04548e-15   4.59251e-17  -6.245e-17    …  -0.234387      0.0624178  \n",
       "  1.70855e-15   1.41055e-16   8.11851e-16      0.5          -0.431043   \n",
       "  1.50747e-15  -2.25514e-16   9.86936e-16     -0.431043      0.5        "
      ]
     },
     "metadata": {},
     "output_type": "display_data"
    },
    {
     "data": {
      "text/plain": [
       "8×8 Array{Float64,2}:\n",
       "  1.0           5.87398e-16  -1.48443e-16  …   1.70855e-15   1.50747e-15\n",
       "  4.60422e-16  -1.50127e-17   2.11501e-16      1.41055e-16  -2.25514e-16\n",
       " -1.346e-16     2.2083e-16    1.0              8.11851e-16   9.86936e-16\n",
       "  1.41902e-16   6.05107e-17   8.81132e-17     -1.11022e-16   1.07553e-16\n",
       " -6.99422e-17  -1.92183e-16  -4.17166e-16     -2.93515e-15   0.253381   \n",
       "  1.10446e-15   8.19095e-17   1.60365e-17  …  -0.253381     -9.15934e-16\n",
       "  1.70855e-15   1.41055e-16   8.11851e-16      0.5          -0.431043   \n",
       "  1.50747e-15  -2.25514e-16   9.86936e-16     -0.431043      0.5        "
      ]
     },
     "metadata": {},
     "output_type": "display_data"
    },
    {
     "data": {
      "text/plain": [
       "8×8 Array{Float64,2}:\n",
       "  1.0           5.87398e-16  -1.48443e-16  …   2.0255e-15    1.50747e-15\n",
       "  4.60422e-16  -1.50127e-17   2.11501e-16      1.65748e-16  -2.25514e-16\n",
       " -1.346e-16     2.2083e-16    1.0              7.39971e-16   9.86936e-16\n",
       "  1.41902e-16   6.05107e-17   8.81132e-17     -1.00378e-16   1.07553e-16\n",
       " -2.11375e-16  -1.24526e-16   2.52765e-17      5.55112e-17   2.22045e-16\n",
       "  7.43126e-17  -1.46677e-16  -5.45684e-16  …  -0.245794      0.319636   \n",
       "  2.02329e-15   1.62847e-16   7.31421e-16      0.295666     -0.384491   \n",
       "  1.50747e-15  -2.25514e-16   9.86936e-16     -0.384491      0.5        "
      ]
     },
     "metadata": {},
     "output_type": "display_data"
    },
    {
     "data": {
      "text/plain": [
       "8×8 Array{Float64,2}:\n",
       "  1.0           5.87398e-16  -1.48443e-16  …   1.48841e-15   1.50747e-15\n",
       "  4.60422e-16  -1.50127e-17   2.11501e-16      1.98501e-16  -2.25514e-16\n",
       " -1.346e-16     2.2083e-16    1.0              8.85704e-16   9.86936e-16\n",
       "  1.41902e-16   6.05107e-17   8.81132e-17     -1.2616e-16    1.07553e-16\n",
       " -2.11375e-16  -1.24526e-16   2.52765e-17      4.2687e-17    2.22045e-16\n",
       "  1.35057e-15  -8.68874e-18   4.79555e-17  …   2.13435e-17  -8.32667e-17\n",
       "  1.50836e-15   2.18993e-16   9.11289e-16      0.5          -0.5        \n",
       "  1.50747e-15  -2.25514e-16   9.86936e-16     -0.5           0.5        "
      ]
     },
     "metadata": {},
     "output_type": "display_data"
    },
    {
     "data": {
      "text/plain": [
       "8×8 Array{Float64,2}:\n",
       "  1.0           5.87398e-16  -1.48443e-16  …   2.11841e-15   1.34792e-17\n",
       "  4.60422e-16  -1.50127e-17   2.11501e-16     -1.91013e-17  -2.99824e-16\n",
       " -1.346e-16     2.2083e-16    1.0              1.32416e-15   7.15816e-17\n",
       "  1.41902e-16   6.05107e-17   8.81132e-17     -1.31572e-17   1.6526e-16 \n",
       " -2.11375e-16  -1.24526e-16   2.52765e-17      1.87194e-16   1.26825e-16\n",
       "  1.35057e-15  -8.68874e-18   4.79555e-17  …  -4.37863e-17  -7.39706e-17\n",
       "  2.13252e-15  -4.6114e-18    1.34225e-15     -2.2803e-31   -7.85046e-17\n",
       " -6.28957e-19  -3.14314e-16   5.34903e-17     -1.11022e-16   1.0        "
      ]
     },
     "metadata": {},
     "output_type": "display_data"
    },
    {
     "data": {
      "text/plain": [
       "8×8 Array{Float64,2}:\n",
       "  1.0           5.87398e-16  -1.48443e-16  …   2.11841e-15   1.34792e-17\n",
       "  4.60422e-16  -1.50127e-17   2.11501e-16     -1.91013e-17  -2.99824e-16\n",
       " -1.346e-16     2.2083e-16    1.0              1.32416e-15   7.15816e-17\n",
       "  1.41902e-16   6.05107e-17   8.81132e-17     -1.31572e-17   1.6526e-16 \n",
       " -2.11375e-16  -1.24526e-16   2.52765e-17      1.87194e-16   1.26825e-16\n",
       "  1.35057e-15  -8.68874e-18   4.79555e-17  …  -4.37863e-17  -7.39706e-17\n",
       "  2.13252e-15  -4.6114e-18    1.34225e-15     -2.2803e-31   -7.85046e-17\n",
       " -6.28957e-19  -3.14314e-16   5.34903e-17     -1.11022e-16   1.0        "
      ]
     },
     "metadata": {},
     "output_type": "display_data"
    },
    {
     "data": {
      "text/plain": [
       "8-element Array{Float64,1}:\n",
       "  1.0        \n",
       " -1.50127e-17\n",
       "  1.0        \n",
       "  6.33177e-18\n",
       "  1.0        \n",
       "  1.77433e-17\n",
       " -2.2803e-31 \n",
       "  1.0        "
      ]
     },
     "metadata": {},
     "output_type": "display_data"
    },
    {
     "data": {
      "text/plain": [
       "8-element Array{Int64,1}:\n",
       " 1\n",
       " 0\n",
       " 1\n",
       " 0\n",
       " 1\n",
       " 0\n",
       " 0\n",
       " 1"
      ]
     },
     "metadata": {},
     "output_type": "display_data"
    },
    {
     "ename": "LoadError",
     "evalue": "\u001b[91mUndefVarError: canonicalize_to_right! not defined\u001b[39m",
     "output_type": "error",
     "traceback": [
      "\u001b[91mUndefVarError: canonicalize_to_right! not defined\u001b[39m",
      "",
      "Stacktrace:",
      " [1] \u001b[1mcenter_at!\u001b[22m\u001b[22m\u001b[1m(\u001b[22m\u001b[22m::Array{Array{Complex{Float64},3},1}, ::Int64\u001b[1m)\u001b[22m\u001b[22m at \u001b[1m/home/amir/Work/gdmrg/MPS.jl:200\u001b[22m\u001b[22m",
      " [2] \u001b[1mTmp.MPS{Complex{Float64}}\u001b[22m\u001b[22m\u001b[1m(\u001b[22m\u001b[22m::Int64, ::Array{Int64,1}, ::Float64\u001b[1m)\u001b[22m\u001b[22m at \u001b[1m/home/amir/Work/gdmrg/MPS.jl:70\u001b[22m\u001b[22m",
      " [3] \u001b[1mgenerateMPS\u001b[22m\u001b[22m\u001b[1m(\u001b[22m\u001b[22m::Tmp.FishmanGates, ::Int64, ::Bool\u001b[1m)\u001b[22m\u001b[22m at \u001b[1m/home/amir/Work/gdmrg/genMPS.jl:7\u001b[22m\u001b[22m (repeats 2 times)"
     ]
    }
   ],
   "source": [
    "Lx=8\n",
    "corr_matrix = Tmp.correlation_matrix(Lx)\n",
    "display(corr_matrix)\n",
    "gmps = Tmp.makeGMPS!(corr_matrix, 1.e-8)\n",
    "mps = Tmp.generateMPS(gmps, 100)"
   ]
  },
  {
   "cell_type": "code",
   "execution_count": null,
   "metadata": {
    "collapsed": true
   },
   "outputs": [],
   "source": []
  }
 ],
 "metadata": {
  "kernelspec": {
   "display_name": "Julia 0.6.1",
   "language": "julia",
   "name": "julia-0.6"
  },
  "language_info": {
   "file_extension": ".jl",
   "mimetype": "application/julia",
   "name": "julia",
   "version": "0.6.1"
  }
 },
 "nbformat": 4,
 "nbformat_minor": 2
}
