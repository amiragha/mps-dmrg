{
 "cells": [
  {
   "cell_type": "code",
   "execution_count": null,
   "metadata": {
    "collapsed": true
   },
   "outputs": [],
   "source": [
    "push!(LOAD_PATH, \"/home/amir/Work/gdmrg\")\n",
    "import Tmp"
   ]
  },
  {
   "cell_type": "code",
   "execution_count": null,
   "metadata": {},
   "outputs": [],
   "source": [
    "reload(\"Tmp\")\n",
    "include(\"test.jl\")"
   ]
  },
  {
   "cell_type": "code",
   "execution_count": null,
   "metadata": {},
   "outputs": [],
   "source": [
    "using Plots\n",
    "using LaTeXStrings\n",
    "font = Plots.font(\"Helvetica\", 12)\n",
    "pyplot(guidefont=font, xtickfont=font, ytickfont=font, legendfont=font)"
   ]
  },
  {
   "cell_type": "code",
   "execution_count": null,
   "metadata": {},
   "outputs": [],
   "source": [
    "##### this will become a tutorial\n",
    "d=2\n",
    "Lx = 14\n",
    "\n",
    "# The Bethe chain ground state\n",
    "H = Tmp.heisenberg(Lx)\n",
    "eheis, vheis = eigs(H, nev=1, which=:SR)\n",
    "mps = Tmp.MPS(Lx, 2, vheis[:,1]);\n",
    "sz = Float64[0.5 0; 0 -0.5]\n",
    "\n",
    "# @testset \"stuff\" begin\n",
    "#     @test Tmp.norm(mps)[1,1] ≈ 1.\n",
    "#     @test Tmp.norm(randmps)[1,1] ≈ 1.\n",
    "#     @test Tmp.measure(mps, sz, 1)[1] ≈ -2.e-15 atol=1.e-15\n",
    "#     @test Tmp.measure(mps, sz, collect(1:Lx)) ≈ zeros(Lx) atol=1.e-12\n",
    "# end\n",
    "\n",
    "# random state\n",
    "randmps = Tmp.MPS(Lx, d, normalize(complex.(randn(d^Lx), randn(d^Lx))))\n",
    "\n",
    "# calculate the overlap\n",
    "overlap = Tmp.overlap(mps, randmps)[1]\n",
    "@show abs(overlap), angle(overlap)\n",
    "\n",
    "sz = Float64[0.5 0; 0 -0.5]\n",
    "correlations = Float64[]\n",
    "for i=1:Lx-1\n",
    "    for j=i+1:Lx\n",
    "        push!(correlations, Tmp.measure(mps, [sz,sz], [i,j])[1,1])\n",
    "    end\n",
    "end\n",
    "p1 = plot(correlations[1:Lx-1], label=\"Heis GS\", title=\"correlations\")\n",
    "\n",
    "sz = Complex128[0.5 0; 0 -0.5]\n",
    "correlations_random = Complex128[]\n",
    "for i=1:Lx-1\n",
    "    for j=i+1:Lx\n",
    "        push!(correlations_random, Tmp.measure(randmps, [sz,sz], [i,j])[1,1])\n",
    "    end\n",
    "end\n",
    "p2 = plot(real(correlations_random[1:Lx-1]), label=\"random\", title=\"correlations\")\n",
    "\n",
    "display(\n",
    "    plot(p1,p2, layout=(1,2), size=(800,200), show=true)\n",
    ")\n",
    "\n",
    "vnes_mps = Tmp.entropy(Tmp.entanglements!(mps))\n",
    "vnes_randmps = Tmp.entropy(Tmp.entanglements!(randmps))\n",
    "p3 = plot(vnes_mps, label=\"Heis GS\", title=\"Entaglement entropies\")\n",
    "p4 = plot(vnes_randmps, label=\"random\", title=\"Entanglement entropies\")\n",
    "\n",
    "display(\n",
    "    plot(p3,p4, layout=(1,2), size=(800,200), show=true)\n",
    ")"
   ]
  },
  {
   "cell_type": "code",
   "execution_count": null,
   "metadata": {},
   "outputs": [],
   "source": [
    "#reload(\"Tmp\")\n",
    "# convert method ### IS THIS NEEDED?!\n",
    "#convert(Tmp.MPS{Complex128}, mps)\n",
    "\n",
    "# test and fix the apply unitary function and possibly generalize\n",
    "\n",
    "# And move to the last step: Fishman White approach"
   ]
  },
  {
   "cell_type": "code",
   "execution_count": null,
   "metadata": {
    "collapsed": true
   },
   "outputs": [],
   "source": [
    "Lx=8\n",
    "corr_matrix = Tmp.correlation_matrix(Lx)\n",
    "display(corr_matrix)\n",
    "gmps = Tmp.makeGMPS!(corr_matrix, 1.e-8)\n",
    "mps = Tmp.generateMPS(gmps, 100)"
   ]
  },
  {
   "cell_type": "markdown",
   "metadata": {
    "collapsed": true
   },
   "source": []
  }
 ],
 "metadata": {
  "kernelspec": {
   "display_name": "Julia 0.6.1",
   "language": "julia",
   "name": "julia-0.6"
  },
  "language_info": {
   "file_extension": ".jl",
   "mimetype": "application/julia",
   "name": "julia",
   "version": "0.6.2"
  }
 },
 "nbformat": 4,
 "nbformat_minor": 2
}
